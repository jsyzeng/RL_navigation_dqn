{
 "cells": [
  {
   "cell_type": "markdown",
   "metadata": {},
   "source": [
    "# Navigation\n",
    "\n",
    "---\n",
    "**Author: Jason Zeng**\n",
    "\n",
    "**Date: April 24, 2020**\n",
    "\n",
    "We will use Deep Q-Network (DQN) to train an agent to navigate and collect bananas in a large, square-shaped space. \n",
    "\n",
    "A reward of +1 is provided for collecting a yellow banana, and a reward of -1 is provided for collecting a blue banana. Thus, the goal of the agent is to collect as many yellow bananas as possible while avoiding blue bananas.\n",
    "\n",
    "The state space has 37 dimensions and contains the agent's velocity, along with ray-based perception of objects around agent's forward direction. Given this information, the agent has to learn how to best select actions. Four discrete actions are available, corresponding to:\n",
    "\n",
    "- 0 - move forward.\n",
    "- 1 - move backward.\n",
    "- 2 - turn left.\n",
    "- 3 - turn right.\n",
    "\n",
    "The task is episodic, and in order to solve the environment, the agent must get an average score > 13 over some episodes.\n",
    "\n",
    "### 1. Start the Environment\n",
    "\n",
    "Run the next code cell to install a few packages.  This line will take a few minutes to run!"
   ]
  },
  {
   "cell_type": "code",
   "execution_count": 1,
   "metadata": {},
   "outputs": [
    {
     "name": "stdout",
     "output_type": "stream",
     "text": [
      "\u001b[31mtensorflow 1.7.1 has requirement numpy>=1.13.3, but you'll have numpy 1.12.1 which is incompatible.\u001b[0m\r\n",
      "\u001b[31mipython 6.5.0 has requirement prompt-toolkit<2.0.0,>=1.0.15, but you'll have prompt-toolkit 3.0.5 which is incompatible.\u001b[0m\r\n"
     ]
    }
   ],
   "source": [
    "!pip -q install ./python"
   ]
  },
  {
   "cell_type": "markdown",
   "metadata": {},
   "source": [
    "The environment is already saved in the Workspace and can be accessed at the file path provided below.  Please run the next code cell without making any changes."
   ]
  },
  {
   "cell_type": "code",
   "execution_count": 2,
   "metadata": {},
   "outputs": [
    {
     "name": "stderr",
     "output_type": "stream",
     "text": [
      "INFO:unityagents:\n",
      "'Academy' started successfully!\n",
      "Unity Academy name: Academy\n",
      "        Number of Brains: 1\n",
      "        Number of External Brains : 1\n",
      "        Lesson number : 0\n",
      "        Reset Parameters :\n",
      "\t\t\n",
      "Unity brain name: BananaBrain\n",
      "        Number of Visual Observations (per agent): 0\n",
      "        Vector Observation space type: continuous\n",
      "        Vector Observation space size (per agent): 37\n",
      "        Number of stacked Vector Observation: 1\n",
      "        Vector Action space type: discrete\n",
      "        Vector Action space size (per agent): 4\n",
      "        Vector Action descriptions: , , , \n"
     ]
    }
   ],
   "source": [
    "from unityagents import UnityEnvironment\n",
    "import numpy as np\n",
    "\n",
    "# please do not modify the line below\n",
    "env = UnityEnvironment(file_name=\"/data/Banana_Linux_NoVis/Banana.x86_64\")"
   ]
  },
  {
   "cell_type": "markdown",
   "metadata": {},
   "source": [
    "Environments contain **_brains_** which are responsible for deciding the actions of their associated agents. Here we check for the first brain available, and set it as the default brain we will be controlling from Python."
   ]
  },
  {
   "cell_type": "code",
   "execution_count": 3,
   "metadata": {},
   "outputs": [],
   "source": [
    "# get the default brain\n",
    "brain_name = env.brain_names[0]\n",
    "brain = env.brains[brain_name]"
   ]
  },
  {
   "cell_type": "markdown",
   "metadata": {},
   "source": [
    "### 2. Examine the State and Action Spaces\n",
    "\n",
    "Run the code cell below to print some information about the environment."
   ]
  },
  {
   "cell_type": "code",
   "execution_count": 4,
   "metadata": {},
   "outputs": [
    {
     "name": "stdout",
     "output_type": "stream",
     "text": [
      "Number of agents: 1\n",
      "Number of actions: 4\n",
      "States look like: [ 1.          0.          0.          0.          0.84408134  0.          0.\n",
      "  1.          0.          0.0748472   0.          1.          0.          0.\n",
      "  0.25755     1.          0.          0.          0.          0.74177343\n",
      "  0.          1.          0.          0.          0.25854847  0.          0.\n",
      "  1.          0.          0.09355672  0.          1.          0.          0.\n",
      "  0.31969345  0.          0.        ]\n",
      "States have length: 37\n"
     ]
    }
   ],
   "source": [
    "# reset the environment\n",
    "env_info = env.reset(train_mode=True)[brain_name]\n",
    "\n",
    "# number of agents in the environment\n",
    "print('Number of agents:', len(env_info.agents))\n",
    "\n",
    "# number of actions\n",
    "action_size = brain.vector_action_space_size\n",
    "print('Number of actions:', action_size)\n",
    "\n",
    "# examine the state space \n",
    "state = env_info.vector_observations[0]\n",
    "print('States look like:', state)\n",
    "state_size = len(state)\n",
    "print('States have length:', state_size)"
   ]
  },
  {
   "cell_type": "markdown",
   "metadata": {},
   "source": [
    "### 3. Take Random Actions in the Environment\n",
    "\n",
    "In the next code cell, you will learn how to use the Python API to control the agent and receive feedback from the environment.\n",
    "\n",
    "Note that **in this coding environment, you will not be able to watch the agent while it is training**, and you should set `train_mode=True` to restart the environment."
   ]
  },
  {
   "cell_type": "code",
   "execution_count": 5,
   "metadata": {},
   "outputs": [
    {
     "name": "stdout",
     "output_type": "stream",
     "text": [
      "Score: 1.0\n"
     ]
    }
   ],
   "source": [
    "env_info = env.reset(train_mode=True)[brain_name] # reset the environment\n",
    "state = env_info.vector_observations[0]            # get the current state\n",
    "score = 0                                          # initialize the score\n",
    "while True:\n",
    "    action = np.random.randint(action_size)        # select an action\n",
    "    env_info = env.step(action)[brain_name]        # send the action to the environment\n",
    "    next_state = env_info.vector_observations[0]   # get the next state\n",
    "    reward = env_info.rewards[0]                   # get the reward\n",
    "    done = env_info.local_done[0]                  # see if episode has finished\n",
    "    score += reward                                # update the score\n",
    "    state = next_state                             # roll over the state to next time step\n",
    "    if done:                                       # exit loop if episode finished\n",
    "        break\n",
    "    \n",
    "print(\"Score: {}\".format(score))"
   ]
  },
  {
   "cell_type": "markdown",
   "metadata": {},
   "source": [
    "When finished, you can close the environment."
   ]
  },
  {
   "cell_type": "code",
   "execution_count": 6,
   "metadata": {},
   "outputs": [],
   "source": [
    "# env.close()"
   ]
  },
  {
   "cell_type": "markdown",
   "metadata": {},
   "source": [
    "### 4. Train Agent with DQN\n",
    "\n",
    "Deep Q-Learning Algorithm was introduced in the paper titled [Human-level control through deep reinforcement learning](https://storage.googleapis.com/deepmind-media/dqn/DQNNaturePaper.pdf). Its main idea can be described as follows:\n",
    "\n",
    "```\n",
    "Initialize replay memory D with capacity N\n",
    "Initialize action-value function q with random weights w\n",
    "Initialize target action-value weights w- <-- w\n",
    "for episode e <-- 1 to M\n",
    "    Initial input frame x_1\n",
    "    Prepare initial state S <-- phi(<x_1>)\n",
    "    for time step t <-- 1 to T:\n",
    "        # SAMPLE\n",
    "        Choose action A from state S using policy pi <-- e-Greedy(q(S,A,w))\n",
    "        Take action A, observe reward R_t and next input frame x_{t+1}\n",
    "        Prepare next state S' <-- phi(<x_{t-2}, x_{t-1}, x_{t}, x_{t+1}>)\n",
    "        Store experience tuple (S, A, R, S') in replay memory D\n",
    "        S <-- S'\n",
    "        \n",
    "        # LEARN\n",
    "        Obtain random minibatch of tuples(s_j, a_j, r_j, s_{j+1}) from D\n",
    "        Set target y_j = r_j + gamma * max_a q(s_{j+1}, a, w-)\n",
    "        Update: dW = alpha* (y_j - q(s_j, a_j, w)) * D_w q(s_j, a_j, w)\n",
    "        Every C steps, reset: w- <-- w\n",
    "```\n",
    "\n",
    "There are also several variants of DQN improvements, including **_Double DQN_**, **_Prioritized Experience Replay_**, **_Dueling DQN_**.\n",
    "\n",
    "Note: \n",
    "- In this coding environment, you will not be able to watch the agent while it is training.  However, **_after training the agent_**, you can download the saved model weights to watch the agent on your own machine! "
   ]
  },
  {
   "cell_type": "markdown",
   "metadata": {},
   "source": [
    "#### 4.1 Model Stucture\n",
    "\n",
    "A few words on NN structure:\n",
    "- A two-hidden-layer NN is used to generate action-value function. \n",
    "- Input dimension is 37, corresponding to 37 states. \n",
    "- Each hidden layer has 64 nodes.\n",
    "- 4 output nodes for to 4 actions [0, 1, 2, 3]. \n",
    "- Activation function ReLU is used in all layers.\n",
    "\n",
    "Summary of key model parameters:\n",
    "```\n",
    "BUFFER_SIZE = int(1e5)  # replay buffer size\n",
    "BATCH_SIZE = 64         # minibatch size\n",
    "GAMMA = 0.99            # discount factor\n",
    "ALPHA = 0.4             # prioritization level (ALPHA=0 is uniform sampling so no prioritization)\n",
    "TAU = 1e-3              # for soft update of target parameters\n",
    "LR = 5e-4               # learning rate \n",
    "UPDATE_EVERY = 4        # how often to update the network\n",
    "```"
   ]
  },
  {
   "cell_type": "markdown",
   "metadata": {},
   "source": [
    "#### 4.2 Function Definition"
   ]
  },
  {
   "cell_type": "code",
   "execution_count": 6,
   "metadata": {},
   "outputs": [],
   "source": [
    "# define action wrapper function\n",
    "def action_wrap(action):\n",
    "    \"\"\"action wrapper for environment\n",
    "    \n",
    "    Params\n",
    "    ======\n",
    "        action (int): action to take\n",
    "     \n",
    "    Return\n",
    "    ======\n",
    "        Outcome from action in tuple: (next_state, reward, done)\n",
    "    \"\"\"\n",
    "    env_info = env.step(action)[brain_name]        # send the action to the environment\n",
    "    next_state = env_info.vector_observations[0]   # get the next state\n",
    "    reward = env_info.rewards[0]                   # get the reward\n",
    "    done = env_info.local_done[0]                  # see if episode has finished\n",
    "    return (next_state, reward, done)              # return tuple (nex_state, reward, done)\n",
    "\n",
    "# define DQN training structure\n",
    "def dqn(n_episodes=1000, max_t=1000, eps_start=1.0, eps_end=0.01, eps_decay=0.995, \n",
    "        priorReplay=False, beta_start=0.4, name=\"dqn-default\", log=True):\n",
    "    \"\"\"Deep Q-Learning.\n",
    "    \n",
    "    Params\n",
    "    ======\n",
    "        n_episodes (int): maximum number of training episodes\n",
    "        max_t (int): maximum number of timesteps per episode\n",
    "        eps_start (float): starting value of epsilon, for epsilon-greedy action selection\n",
    "        eps_end (float): minimum value of epsilon\n",
    "        eps_decay (float): multiplicative factor (per episode) for decreasing epsilon\n",
    "        priorReplay (boolean): is prioritized replay required\n",
    "        beta_start (float): starting value of importance sampling (when prioritized replay active)\n",
    "        name (string): name of checkpoint file when environment solved\n",
    "        log (boolean): logging to monitor progress\n",
    "    \"\"\"\n",
    "    scores = []                        # list containing scores from each episode\n",
    "    scores_window = deque(maxlen=100)  # last 100 scores\n",
    "    eps = eps_start                    # initialize epsilon\n",
    "    beta = lambda episode: min(1.0, beta_start + episode * (1.0 - beta_start) / n_episodes/2)\n",
    "    \n",
    "    for i_episode in range(1, n_episodes+1):\n",
    "        env_info = env.reset(train_mode=False)[brain_name]\n",
    "        state = env_info.vector_observations[0]            \n",
    "        score = 0\n",
    "        for t in range(max_t):\n",
    "            action = agent.act(state, eps)\n",
    "            next_state, reward, done = action_wrap(action)\n",
    "            # for replay\n",
    "            if priorReplay: \n",
    "                agent.step(state, action, reward, next_state, done, beta(i_episode))\n",
    "            else:\n",
    "                agent.step(state, action, reward, next_state, done)\n",
    "                \n",
    "            state = next_state\n",
    "            score += reward\n",
    "            if done:\n",
    "                break \n",
    "        scores_window.append(score)       # save most recent score\n",
    "        scores.append(score)              # save most recent score\n",
    "        eps = max(eps_end, eps_decay*eps) # decrease epsilon\n",
    "        if log:\n",
    "            print('\\rEpisode {}\\tAverage Score: {:.2f}'.format(i_episode, np.mean(scores_window)), end=\"\")\n",
    "        \n",
    "        if i_episode % 100 == 0:\n",
    "            if log:\n",
    "                print('\\rEpisode {}\\tAverage Score: {:.2f}'.format(i_episode, np.mean(scores_window)))\n",
    "        \n",
    "        if np.mean(scores_window)>=13.0:\n",
    "            if log:\n",
    "                print('\\nEnvironment solved in {:d} episodes!\\tAverage Score: {:.2f}'.format(i_episode-100, np.mean(scores_window)), end=\"\\n\")\n",
    "            \n",
    "            checkpoint = {\n",
    "                'state_size': state_size,\n",
    "                'action_size': action_size,\n",
    "                'hidden_layers': [each.out_features for each in agent.qnetwork_local.hidden_layers],\n",
    "                'state_dict': agent.qnetwork_local.state_dict(),\n",
    "                'scores': scores}\n",
    "            \n",
    "            torch.save(checkpoint, 'checkpoint-' + name + '.pth')                \n",
    "            break  # stop training when mean score >=13\n",
    "            \n",
    "    return scores"
   ]
  },
  {
   "cell_type": "markdown",
   "metadata": {},
   "source": [
    "#### 4.3 Training"
   ]
  },
  {
   "cell_type": "code",
   "execution_count": 20,
   "metadata": {},
   "outputs": [],
   "source": [
    "# load environment and packages\n",
    "import numpy as np\n",
    "import pandas as pd\n",
    "import random\n",
    "import torch\n",
    "from collections import deque\n",
    "\n",
    "import matplotlib.pyplot as plt\n",
    "from tqdm import tqdm\n",
    "from unityagents import UnityEnvironment\n",
    "\n",
    "# use Vanilla for this exercise\n",
    "from dqn_agent import Vanilla  #, Double, PrioritizedReplay\n",
    "# to keep workstation from idle\n",
    "from workspace_utils import active_session  "
   ]
  },
  {
   "cell_type": "code",
   "execution_count": 21,
   "metadata": {},
   "outputs": [],
   "source": [
    "# reset the environment with train_mode=True\n",
    "env_info =  env.reset(train_mode=True)[brain_name]\n",
    "# call simple Vanilla, hidden layers = [64, 64]\n",
    "agent = Vanilla(state_size=state_size, action_size=action_size, hidden_layers=[64, 64], seed=0)"
   ]
  },
  {
   "cell_type": "code",
   "execution_count": 22,
   "metadata": {},
   "outputs": [
    {
     "name": "stdout",
     "output_type": "stream",
     "text": [
      "Episode 100\tAverage Score: 0.42\n",
      "Episode 200\tAverage Score: 3.60\n",
      "Episode 300\tAverage Score: 6.77\n",
      "Episode 400\tAverage Score: 9.59\n",
      "Episode 500\tAverage Score: 12.16\n",
      "Episode 525\tAverage Score: 13.03\n",
      "Environment solved in 425 episodes!\tAverage Score: 13.03\n",
      "CPU times: user 8min 55s, sys: 1min 4s, total: 10min\n",
      "Wall time: 4h 21min 6s\n"
     ]
    }
   ],
   "source": [
    "%time scores = dqn(name=\"dqn\")"
   ]
  },
  {
   "cell_type": "code",
   "execution_count": 73,
   "metadata": {},
   "outputs": [],
   "source": [
    "import matplotlib\n",
    "\n",
    "# load checkpoint if needed\n",
    "def load_checkpoint(filepath):\n",
    "    checkpoint = torch.load(filepath)\n",
    "    return (checkpoint['state_size'], checkpoint['action_size'], \n",
    "            checkpoint['hidden_layers'], checkpoint['state_dict'], checkpoint['scores'])\n",
    "\n",
    "# define moving average function to be used in plotting\n",
    "def moving_average(x, n=3) :\n",
    "    ret = np.cumsum(x, dtype=float)\n",
    "    ret[n:] = ret[n:] - ret[:-n]\n",
    "    return ret[n - 1:] / n\n",
    "\n",
    "# plot score, together with moving average\n",
    "def plot_scores(scores, smooth_window=30):\n",
    "    scores_smoothed = moving_average(scores, smooth_window)\n",
    "    # config the plot\n",
    "    fig = plt.figure(figsize=(10, 8))\n",
    "    matplotlib.rcParams.update({'font.size': 16})\n",
    "    #ax = fig.add_subplot(111)\n",
    "    plt.plot(np.arange(len(scores)), scores, linewidth=2, alpha=0.4, color='green', label='individual')\n",
    "    plt.plot(np.arange(len(scores))[smooth_window-1:,], scores_smoothed, linewidth=1.5, alpha=1, color='blue', label='average')\n",
    "    plt.legend(bbox_to_anchor=(0.05, 0.95), loc='upper left', borderaxespad=0.)\n",
    "    plt.ylabel('Score')\n",
    "    plt.xlabel('Episode Number')\n",
    "    plt.show()\n",
    "    return fig\n"
   ]
  },
  {
   "cell_type": "code",
   "execution_count": 74,
   "metadata": {},
   "outputs": [
    {
     "data": {
      "image/png": "[encoded data removed]",
      "text/plain": [
       "<matplotlib.figure.Figure at 0x7ffa00743780>"
      ]
     },
     "metadata": {
      "needs_background": "light"
     },
     "output_type": "display_data"
    }
   ],
   "source": [
    "_, _, _, _, list_dqn_scores = load_checkpoint('checkpoint-dqn.pth')\n",
    "figure = plot_scores(list_dqn_scores)"
   ]
  },
  {
   "cell_type": "markdown",
   "metadata": {},
   "source": [
    "### 5. Summary and Discussion\n",
    "In this notebook, we applied DQN to train agent for Banana navigation task. An average score of 13.03 for 100 episodes is achieved with only 425 training episodes.  \n",
    "\n",
    "A few ways to further improve:\n",
    "- Hyperparameter tuning, including $\\epsilon$-decay rate, discount factor, update frequency etc.\n",
    "- Apply DQN improvements, including **_Double DQN_**, **_Prioritized Experience Replay_**, **_Dueling DQN_**."
   ]
  },
  {
   "cell_type": "code",
   "execution_count": null,
   "metadata": {},
   "outputs": [],
   "source": []
  }
 ],
 "metadata": {
  "kernelspec": {
   "display_name": "Python 3",
   "language": "python",
   "name": "python3"
  },
  "language_info": {
   "codemirror_mode": {
    "name": "ipython",
    "version": 3
   },
   "file_extension": ".py",
   "mimetype": "text/x-python",
   "name": "python",
   "nbconvert_exporter": "python",
   "pygments_lexer": "ipython3",
   "version": "3.6.3"
  }
 },
 "nbformat": 4,
 "nbformat_minor": 2
}
